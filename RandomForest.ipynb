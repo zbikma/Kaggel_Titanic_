{
 "cells": [
  {
   "cell_type": "code",
   "execution_count": 6,
   "metadata": {},
   "outputs": [],
   "source": [
    "from sklearn.ensemble import RandomForestClassifier, RandomForestRegressor\n",
    "import pandas as pd\n",
    "import joblib\n",
    "import warnings\n",
    "from sklearn.model_selection import GridSearchCV\n",
    "warnings.filterwarnings('ignore', category=FutureWarning)\n",
    "warnings.filterwarnings('ignore', category=DeprecationWarning)\n",
    "tr_feature = pd.read_csv('../train_f.csv')\n",
    "tr_lab = pd.read_csv('../train_label.csv')"
   ]
  },
  {
   "cell_type": "code",
   "execution_count": 9,
   "metadata": {},
   "outputs": [],
   "source": [
    "def print_results(results):\n",
    "    print(\"best params:{} \\n\".format(results.best_params_))\n",
    "    means=results.cv_results_['mean_test_score']\n",
    "    stds=results.cv_results_['std_test_score']\n",
    "    for mean,std,params in zip(means,stds,results.cv_results_['params']):\n",
    "        print('{} (+/-{}) for {}'.format(round(mean,3),round(std*2,3),params))\n"
   ]
  },
  {
   "cell_type": "code",
   "execution_count": 11,
   "metadata": {},
   "outputs": [
    {
     "name": "stdout",
     "output_type": "stream",
     "text": [
      "best params:{'max_depth': 8, 'n_estimators': 50} \n",
      "\n",
      "0.781 (+/-0.109) for {'max_depth': 2, 'n_estimators': 5}\n",
      "0.798 (+/-0.104) for {'max_depth': 2, 'n_estimators': 50}\n",
      "0.787 (+/-0.106) for {'max_depth': 2, 'n_estimators': 250}\n",
      "0.803 (+/-0.1) for {'max_depth': 4, 'n_estimators': 5}\n",
      "0.817 (+/-0.107) for {'max_depth': 4, 'n_estimators': 50}\n",
      "0.817 (+/-0.1) for {'max_depth': 4, 'n_estimators': 250}\n",
      "0.828 (+/-0.069) for {'max_depth': 8, 'n_estimators': 5}\n",
      "0.835 (+/-0.071) for {'max_depth': 8, 'n_estimators': 50}\n",
      "0.835 (+/-0.075) for {'max_depth': 8, 'n_estimators': 250}\n",
      "0.809 (+/-0.051) for {'max_depth': 16, 'n_estimators': 5}\n",
      "0.822 (+/-0.051) for {'max_depth': 16, 'n_estimators': 50}\n",
      "0.818 (+/-0.038) for {'max_depth': 16, 'n_estimators': 250}\n",
      "0.807 (+/-0.046) for {'max_depth': 32, 'n_estimators': 5}\n",
      "0.815 (+/-0.036) for {'max_depth': 32, 'n_estimators': 50}\n",
      "0.818 (+/-0.041) for {'max_depth': 32, 'n_estimators': 250}\n",
      "0.798 (+/-0.028) for {'max_depth': None, 'n_estimators': 5}\n",
      "0.832 (+/-0.056) for {'max_depth': None, 'n_estimators': 50}\n",
      "0.82 (+/-0.043) for {'max_depth': None, 'n_estimators': 250}\n"
     ]
    }
   ],
   "source": [
    "rf=RandomForestClassifier()\n",
    "parameters={'n_estimators':[5,50,250],\n",
    "'max_depth':[2,4,8,16,32,None]\n",
    "}\n",
    "cv=GridSearchCV(rf,parameters,cv=5)\n",
    "cv.fit(tr_feature,tr_lab.values.ravel())\n",
    "print_results(cv)"
   ]
  },
  {
   "cell_type": "code",
   "execution_count": 12,
   "metadata": {},
   "outputs": [
    {
     "data": {
      "text/plain": [
       "['../RF_model.pkl']"
      ]
     },
     "execution_count": 12,
     "metadata": {},
     "output_type": "execute_result"
    }
   ],
   "source": [
    "joblib.dump(cv.best_estimator_,'../RF_model.pkl')"
   ]
  }
 ],
 "metadata": {
  "interpreter": {
   "hash": "dce9c2f904e74544eb707186904004555ba9db2b71eab0be4a2e7d0b563b9476"
  },
  "kernelspec": {
   "display_name": "Python 3.9.7 64-bit ('venv': venv)",
   "name": "python3"
  },
  "language_info": {
   "codemirror_mode": {
    "name": "ipython",
    "version": 3
   },
   "file_extension": ".py",
   "mimetype": "text/x-python",
   "name": "python",
   "nbconvert_exporter": "python",
   "pygments_lexer": "ipython3",
   "version": "3.9.7"
  },
  "orig_nbformat": 4
 },
 "nbformat": 4,
 "nbformat_minor": 2
}
