{
 "cells": [
  {
   "cell_type": "markdown",
   "metadata": {},
   "source": [
    "## **Comparing our 5 Models that we have saved**"
   ]
  },
  {
   "cell_type": "markdown",
   "metadata": {},
   "source": [
    "## Import packages for validation"
   ]
  },
  {
   "cell_type": "code",
   "execution_count": 6,
   "metadata": {},
   "outputs": [],
   "source": [
    "import joblib\n",
    "import pandas as pd\n",
    "from sklearn.metrics import accuracy_score,precision_score,recall_score\n",
    "from time import time"
   ]
  },
  {
   "cell_type": "markdown",
   "metadata": {},
   "source": [
    "## Read the test and validation sets from csv files"
   ]
  },
  {
   "cell_type": "code",
   "execution_count": 7,
   "metadata": {},
   "outputs": [],
   "source": [
    "\n",
    "val_features=pd.read_csv('../val_f.csv')\n",
    "val_lab=pd.read_csv('../val_label.csv')\n",
    "\n",
    "te_feature=pd.read_csv('../test_f.csv')\n",
    "te_lab=pd.read_csv('../test_label.csv')"
   ]
  },
  {
   "cell_type": "markdown",
   "metadata": {},
   "source": [
    "## Read in Models in a dictionary"
   ]
  },
  {
   "cell_type": "code",
   "execution_count": 12,
   "metadata": {},
   "outputs": [
    {
     "data": {
      "text/plain": [
       "{'lr': LogisticRegression(C=1),\n",
       " 'svm': SVC(C=0.1, kernel='linear'),\n",
       " 'RF': RandomForestClassifier(max_depth=8, n_estimators=50),\n",
       " 'mlp': MLPClassifier(learning_rate='invscaling'),\n",
       " 'GBT': GradientBoostingClassifier(learning_rate=1, max_depth=1, n_estimators=50)}"
      ]
     },
     "execution_count": 12,
     "metadata": {},
     "output_type": "execute_result"
    }
   ],
   "source": [
    "models={}\n",
    "for mdl in ['lr','svm','RF','mlp','GBT']:\n",
    "    models[mdl]=joblib.load('../{}_model.pkl'.format(mdl))\n",
    "models"
   ]
  },
  {
   "cell_type": "code",
   "execution_count": 21,
   "metadata": {},
   "outputs": [],
   "source": [
    "def evaluate_model(name,model,features,labels):\n",
    "    start=time()\n",
    "    predictions=model.predict(features)\n",
    "    end=time()\n",
    "    accuracy=round(accuracy_score(labels,predictions),3)\n",
    "    precision=round(precision_score(labels,predictions),3)\n",
    "    recall=round(recall_score(labels,predictions),3)\n",
    "    print('{} --> Accuracy: {} / precision:{} / Recall:{} /Latency:{} ms'.format(name,accuracy,precision,recall,round((end-start)*1000,2)))\n"
   ]
  },
  {
   "cell_type": "markdown",
   "metadata": {},
   "source": [
    "## Evaluate on Validation set"
   ]
  },
  {
   "cell_type": "code",
   "execution_count": 22,
   "metadata": {},
   "outputs": [
    {
     "name": "stdout",
     "output_type": "stream",
     "text": [
      "lr --> Accuracy: 0.781 / precision:0.717 / Recall:0.662 /Latency:2.01 ms\n",
      "svm --> Accuracy: 0.747 / precision:0.672 / Recall:0.6 /Latency:2.99 ms\n",
      "RF --> Accuracy: 0.803 / precision:0.768 / Recall:0.662 /Latency:13.98 ms\n",
      "mlp --> Accuracy: 0.787 / precision:0.721 / Recall:0.677 /Latency:2.0 ms\n",
      "GBT --> Accuracy: 0.792 / precision:0.75 / Recall:0.646 /Latency:4.98 ms\n"
     ]
    },
    {
     "name": "stderr",
     "output_type": "stream",
     "text": [
      "C:\\Python39\\lib\\site-packages\\sklearn\\base.py:434: UserWarning: X has feature names, but SVC was fitted without feature names\n",
      "  warnings.warn(\n",
      "C:\\Python39\\lib\\site-packages\\sklearn\\base.py:434: UserWarning: X has feature names, but MLPClassifier was fitted without feature names\n",
      "  warnings.warn(\n",
      "C:\\Python39\\lib\\site-packages\\sklearn\\base.py:434: UserWarning: X has feature names, but GradientBoostingClassifier was fitted without feature names\n",
      "  warnings.warn(\n"
     ]
    }
   ],
   "source": [
    "for name,mdl in models.items():\n",
    "    evaluate_model(name,mdl,val_features,val_lab)\n",
    "    #evaluate_model(name,mdl,te_feature,te_lab)"
   ]
  },
  {
   "cell_type": "markdown",
   "metadata": {},
   "source": [
    "## Evaluate Best Model on Test Set"
   ]
  },
  {
   "cell_type": "code",
   "execution_count": 24,
   "metadata": {},
   "outputs": [
    {
     "name": "stdout",
     "output_type": "stream",
     "text": [
      "Random Forest --> Accuracy: 0.816 / precision:0.864 / Recall:0.671 /Latency:11.98 ms\n"
     ]
    }
   ],
   "source": [
    "\n",
    "evaluate_model('Random Forest',models['RF'],te_feature,te_lab)"
   ]
  }
 ],
 "metadata": {
  "interpreter": {
   "hash": "dce9c2f904e74544eb707186904004555ba9db2b71eab0be4a2e7d0b563b9476"
  },
  "kernelspec": {
   "display_name": "Python 3.9.7 64-bit ('venv': venv)",
   "name": "python3"
  },
  "language_info": {
   "codemirror_mode": {
    "name": "ipython",
    "version": 3
   },
   "file_extension": ".py",
   "mimetype": "text/x-python",
   "name": "python",
   "nbconvert_exporter": "python",
   "pygments_lexer": "ipython3",
   "version": "3.9.7"
  },
  "orig_nbformat": 4
 },
 "nbformat": 4,
 "nbformat_minor": 2
}
