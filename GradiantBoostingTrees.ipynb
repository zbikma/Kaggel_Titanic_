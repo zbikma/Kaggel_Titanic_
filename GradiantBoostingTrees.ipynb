{
 "cells": [
  {
   "cell_type": "code",
   "execution_count": 2,
   "metadata": {},
   "outputs": [],
   "source": [
    "import pandas as pd\n",
    "from sklearn.ensemble import GradientBoostingClassifier,GradientBoostingRegressor\n",
    "import warnings\n",
    "import joblib"
   ]
  },
  {
   "cell_type": "code",
   "execution_count": 3,
   "metadata": {},
   "outputs": [],
   "source": [
    "tr_featurs=pd.read_csv('../train_f.csv')\n",
    "tr_lab=pd.read_csv('../train_label.csv')\n",
    "warnings.filterwarnings('ignore',category=FutureWarning)\n",
    "warnings.filterwarnings('ignore',category=DeprecationWarning)"
   ]
  },
  {
   "cell_type": "code",
   "execution_count": 4,
   "metadata": {},
   "outputs": [],
   "source": [
    "def print_results(results):\n",
    "    print('BEST PARAMS: {}\\n'.format(results.best_params_))\n",
    "\n",
    "    means = results.cv_results_['mean_test_score']\n",
    "    stds = results.cv_results_['std_test_score']\n",
    "    for mean, std, params in zip(means, stds, results.cv_results_['params']):\n",
    "        print('{} (+/-{}) for {}'.format(round(mean, 3), round(std * 2, 3), params))"
   ]
  },
  {
   "cell_type": "code",
   "execution_count": 5,
   "metadata": {},
   "outputs": [
    {
     "name": "stdout",
     "output_type": "stream",
     "text": [
      "BEST PARAMS: {'learning_rate': 1, 'max_depth': 1, 'n_estimators': 50}\n",
      "\n",
      "0.624 (+/-0.007) for {'learning_rate': 0.01, 'max_depth': 1, 'n_estimators': 5}\n",
      "0.796 (+/-0.115) for {'learning_rate': 0.01, 'max_depth': 1, 'n_estimators': 50}\n",
      "0.796 (+/-0.115) for {'learning_rate': 0.01, 'max_depth': 1, 'n_estimators': 250}\n",
      "0.815 (+/-0.119) for {'learning_rate': 0.01, 'max_depth': 1, 'n_estimators': 500}\n",
      "0.624 (+/-0.007) for {'learning_rate': 0.01, 'max_depth': 3, 'n_estimators': 5}\n",
      "0.811 (+/-0.069) for {'learning_rate': 0.01, 'max_depth': 3, 'n_estimators': 50}\n",
      "0.826 (+/-0.075) for {'learning_rate': 0.01, 'max_depth': 3, 'n_estimators': 250}\n",
      "0.831 (+/-0.071) for {'learning_rate': 0.01, 'max_depth': 3, 'n_estimators': 500}\n",
      "0.624 (+/-0.007) for {'learning_rate': 0.01, 'max_depth': 5, 'n_estimators': 5}\n",
      "0.82 (+/-0.043) for {'learning_rate': 0.01, 'max_depth': 5, 'n_estimators': 50}\n",
      "0.82 (+/-0.043) for {'learning_rate': 0.01, 'max_depth': 5, 'n_estimators': 250}\n",
      "0.824 (+/-0.046) for {'learning_rate': 0.01, 'max_depth': 5, 'n_estimators': 500}\n",
      "0.624 (+/-0.007) for {'learning_rate': 0.01, 'max_depth': 7, 'n_estimators': 5}\n",
      "0.82 (+/-0.041) for {'learning_rate': 0.01, 'max_depth': 7, 'n_estimators': 50}\n",
      "0.818 (+/-0.022) for {'learning_rate': 0.01, 'max_depth': 7, 'n_estimators': 250}\n",
      "0.802 (+/-0.029) for {'learning_rate': 0.01, 'max_depth': 7, 'n_estimators': 500}\n",
      "0.624 (+/-0.007) for {'learning_rate': 0.01, 'max_depth': 9, 'n_estimators': 5}\n",
      "0.809 (+/-0.042) for {'learning_rate': 0.01, 'max_depth': 9, 'n_estimators': 50}\n",
      "0.794 (+/-0.045) for {'learning_rate': 0.01, 'max_depth': 9, 'n_estimators': 250}\n",
      "0.79 (+/-0.046) for {'learning_rate': 0.01, 'max_depth': 9, 'n_estimators': 500}\n",
      "0.796 (+/-0.115) for {'learning_rate': 0.1, 'max_depth': 1, 'n_estimators': 5}\n",
      "0.815 (+/-0.119) for {'learning_rate': 0.1, 'max_depth': 1, 'n_estimators': 50}\n",
      "0.826 (+/-0.107) for {'learning_rate': 0.1, 'max_depth': 1, 'n_estimators': 250}\n",
      "0.822 (+/-0.071) for {'learning_rate': 0.1, 'max_depth': 1, 'n_estimators': 500}\n",
      "0.813 (+/-0.071) for {'learning_rate': 0.1, 'max_depth': 3, 'n_estimators': 5}\n",
      "0.835 (+/-0.062) for {'learning_rate': 0.1, 'max_depth': 3, 'n_estimators': 50}\n",
      "0.831 (+/-0.033) for {'learning_rate': 0.1, 'max_depth': 3, 'n_estimators': 250}\n",
      "0.815 (+/-0.037) for {'learning_rate': 0.1, 'max_depth': 3, 'n_estimators': 500}\n",
      "0.817 (+/-0.038) for {'learning_rate': 0.1, 'max_depth': 5, 'n_estimators': 5}\n",
      "0.824 (+/-0.04) for {'learning_rate': 0.1, 'max_depth': 5, 'n_estimators': 50}\n",
      "0.809 (+/-0.044) for {'learning_rate': 0.1, 'max_depth': 5, 'n_estimators': 250}\n",
      "0.796 (+/-0.035) for {'learning_rate': 0.1, 'max_depth': 5, 'n_estimators': 500}\n",
      "0.817 (+/-0.043) for {'learning_rate': 0.1, 'max_depth': 7, 'n_estimators': 5}\n",
      "0.805 (+/-0.027) for {'learning_rate': 0.1, 'max_depth': 7, 'n_estimators': 50}\n",
      "0.8 (+/-0.025) for {'learning_rate': 0.1, 'max_depth': 7, 'n_estimators': 250}\n",
      "0.798 (+/-0.035) for {'learning_rate': 0.1, 'max_depth': 7, 'n_estimators': 500}\n",
      "0.801 (+/-0.038) for {'learning_rate': 0.1, 'max_depth': 9, 'n_estimators': 5}\n",
      "0.788 (+/-0.042) for {'learning_rate': 0.1, 'max_depth': 9, 'n_estimators': 50}\n",
      "0.794 (+/-0.035) for {'learning_rate': 0.1, 'max_depth': 9, 'n_estimators': 250}\n",
      "0.794 (+/-0.041) for {'learning_rate': 0.1, 'max_depth': 9, 'n_estimators': 500}\n",
      "0.824 (+/-0.091) for {'learning_rate': 1, 'max_depth': 1, 'n_estimators': 5}\n",
      "0.845 (+/-0.071) for {'learning_rate': 1, 'max_depth': 1, 'n_estimators': 50}\n",
      "0.833 (+/-0.07) for {'learning_rate': 1, 'max_depth': 1, 'n_estimators': 250}\n",
      "0.824 (+/-0.087) for {'learning_rate': 1, 'max_depth': 1, 'n_estimators': 500}\n",
      "0.833 (+/-0.059) for {'learning_rate': 1, 'max_depth': 3, 'n_estimators': 5}\n",
      "0.809 (+/-0.057) for {'learning_rate': 1, 'max_depth': 3, 'n_estimators': 50}\n",
      "0.798 (+/-0.041) for {'learning_rate': 1, 'max_depth': 3, 'n_estimators': 250}\n",
      "0.803 (+/-0.051) for {'learning_rate': 1, 'max_depth': 3, 'n_estimators': 500}\n",
      "0.807 (+/-0.064) for {'learning_rate': 1, 'max_depth': 5, 'n_estimators': 5}\n",
      "0.802 (+/-0.061) for {'learning_rate': 1, 'max_depth': 5, 'n_estimators': 50}\n",
      "0.807 (+/-0.054) for {'learning_rate': 1, 'max_depth': 5, 'n_estimators': 250}\n",
      "0.805 (+/-0.039) for {'learning_rate': 1, 'max_depth': 5, 'n_estimators': 500}\n",
      "0.788 (+/-0.058) for {'learning_rate': 1, 'max_depth': 7, 'n_estimators': 5}\n",
      "0.788 (+/-0.036) for {'learning_rate': 1, 'max_depth': 7, 'n_estimators': 50}\n",
      "0.805 (+/-0.031) for {'learning_rate': 1, 'max_depth': 7, 'n_estimators': 250}\n",
      "0.798 (+/-0.019) for {'learning_rate': 1, 'max_depth': 7, 'n_estimators': 500}\n",
      "0.77 (+/-0.04) for {'learning_rate': 1, 'max_depth': 9, 'n_estimators': 5}\n",
      "0.807 (+/-0.053) for {'learning_rate': 1, 'max_depth': 9, 'n_estimators': 50}\n",
      "0.811 (+/-0.04) for {'learning_rate': 1, 'max_depth': 9, 'n_estimators': 250}\n",
      "0.807 (+/-0.028) for {'learning_rate': 1, 'max_depth': 9, 'n_estimators': 500}\n",
      "0.204 (+/-0.115) for {'learning_rate': 10, 'max_depth': 1, 'n_estimators': 5}\n",
      "0.204 (+/-0.115) for {'learning_rate': 10, 'max_depth': 1, 'n_estimators': 50}\n",
      "0.204 (+/-0.115) for {'learning_rate': 10, 'max_depth': 1, 'n_estimators': 250}\n",
      "0.204 (+/-0.115) for {'learning_rate': 10, 'max_depth': 1, 'n_estimators': 500}\n",
      "0.486 (+/-0.438) for {'learning_rate': 10, 'max_depth': 3, 'n_estimators': 5}\n",
      "0.486 (+/-0.438) for {'learning_rate': 10, 'max_depth': 3, 'n_estimators': 50}\n",
      "0.486 (+/-0.438) for {'learning_rate': 10, 'max_depth': 3, 'n_estimators': 250}\n",
      "0.486 (+/-0.438) for {'learning_rate': 10, 'max_depth': 3, 'n_estimators': 500}\n",
      "0.399 (+/-0.157) for {'learning_rate': 10, 'max_depth': 5, 'n_estimators': 5}\n",
      "0.432 (+/-0.156) for {'learning_rate': 10, 'max_depth': 5, 'n_estimators': 50}\n",
      "0.449 (+/-0.146) for {'learning_rate': 10, 'max_depth': 5, 'n_estimators': 250}\n",
      "0.427 (+/-0.139) for {'learning_rate': 10, 'max_depth': 5, 'n_estimators': 500}\n",
      "0.596 (+/-0.066) for {'learning_rate': 10, 'max_depth': 7, 'n_estimators': 5}\n",
      "0.562 (+/-0.15) for {'learning_rate': 10, 'max_depth': 7, 'n_estimators': 50}\n",
      "0.588 (+/-0.132) for {'learning_rate': 10, 'max_depth': 7, 'n_estimators': 250}\n",
      "0.586 (+/-0.096) for {'learning_rate': 10, 'max_depth': 7, 'n_estimators': 500}\n",
      "0.659 (+/-0.094) for {'learning_rate': 10, 'max_depth': 9, 'n_estimators': 5}\n",
      "0.68 (+/-0.082) for {'learning_rate': 10, 'max_depth': 9, 'n_estimators': 50}\n",
      "0.657 (+/-0.061) for {'learning_rate': 10, 'max_depth': 9, 'n_estimators': 250}\n",
      "0.672 (+/-0.131) for {'learning_rate': 10, 'max_depth': 9, 'n_estimators': 500}\n",
      "0.376 (+/-0.007) for {'learning_rate': 100, 'max_depth': 1, 'n_estimators': 5}\n",
      "0.376 (+/-0.007) for {'learning_rate': 100, 'max_depth': 1, 'n_estimators': 50}\n",
      "0.376 (+/-0.007) for {'learning_rate': 100, 'max_depth': 1, 'n_estimators': 250}\n",
      "0.376 (+/-0.007) for {'learning_rate': 100, 'max_depth': 1, 'n_estimators': 500}\n",
      "0.313 (+/-0.117) for {'learning_rate': 100, 'max_depth': 3, 'n_estimators': 5}\n",
      "0.313 (+/-0.117) for {'learning_rate': 100, 'max_depth': 3, 'n_estimators': 50}\n",
      "0.313 (+/-0.117) for {'learning_rate': 100, 'max_depth': 3, 'n_estimators': 250}\n",
      "0.313 (+/-0.117) for {'learning_rate': 100, 'max_depth': 3, 'n_estimators': 500}\n",
      "0.436 (+/-0.33) for {'learning_rate': 100, 'max_depth': 5, 'n_estimators': 5}\n",
      "0.374 (+/-0.122) for {'learning_rate': 100, 'max_depth': 5, 'n_estimators': 50}\n",
      "0.374 (+/-0.122) for {'learning_rate': 100, 'max_depth': 5, 'n_estimators': 250}\n",
      "0.363 (+/-0.111) for {'learning_rate': 100, 'max_depth': 5, 'n_estimators': 500}\n",
      "0.594 (+/-0.054) for {'learning_rate': 100, 'max_depth': 7, 'n_estimators': 5}\n",
      "0.611 (+/-0.111) for {'learning_rate': 100, 'max_depth': 7, 'n_estimators': 50}\n",
      "0.612 (+/-0.045) for {'learning_rate': 100, 'max_depth': 7, 'n_estimators': 250}\n",
      "0.588 (+/-0.065) for {'learning_rate': 100, 'max_depth': 7, 'n_estimators': 500}\n",
      "0.644 (+/-0.081) for {'learning_rate': 100, 'max_depth': 9, 'n_estimators': 5}\n",
      "0.601 (+/-0.099) for {'learning_rate': 100, 'max_depth': 9, 'n_estimators': 50}\n",
      "0.596 (+/-0.122) for {'learning_rate': 100, 'max_depth': 9, 'n_estimators': 250}\n",
      "0.639 (+/-0.097) for {'learning_rate': 100, 'max_depth': 9, 'n_estimators': 500}\n"
     ]
    }
   ],
   "source": [
    "from sklearn.model_selection import GridSearchCV\n",
    "gb=GradientBoostingClassifier()\n",
    "parameters={\n",
    "    'n_estimators':[5,50,250,500],\n",
    "    'learning_rate':[0.01,0.1,1,10,100],\n",
    "    'max_depth':[1,3,5,7,9]\n",
    "}\n",
    "cv=GridSearchCV(gb,parameters,cv=5)\n",
    "cv.fit(tr_featurs,tr_lab.values.ravel())\n",
    "print_results(cv)"
   ]
  },
  {
   "cell_type": "code",
   "execution_count": 7,
   "metadata": {},
   "outputs": [
    {
     "data": {
      "text/plain": [
       "['../GBT_model.pkl']"
      ]
     },
     "execution_count": 7,
     "metadata": {},
     "output_type": "execute_result"
    }
   ],
   "source": [
    "joblib.dump(cv.best_estimator_,'../GBT_model.pkl')"
   ]
  }
 ],
 "metadata": {
  "interpreter": {
   "hash": "1adcd3391004c91f79ed646084a7eaf741b2c8120611bd1d032380f666e81ba6"
  },
  "kernelspec": {
   "display_name": "Python 3.8.8 64-bit ('base': conda)",
   "name": "python3"
  },
  "language_info": {
   "codemirror_mode": {
    "name": "ipython",
    "version": 3
   },
   "file_extension": ".py",
   "mimetype": "text/x-python",
   "name": "python",
   "nbconvert_exporter": "python",
   "pygments_lexer": "ipython3",
   "version": "3.8.8"
  },
  "orig_nbformat": 4
 },
 "nbformat": 4,
 "nbformat_minor": 2
}
